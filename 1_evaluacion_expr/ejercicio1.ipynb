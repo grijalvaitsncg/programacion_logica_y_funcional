{
 "cells": [
  {
   "cell_type": "markdown",
   "metadata": {},
   "source": [
    "# Ejercicio 1\n",
    "Ejercicio 1 de evaluación de expresiones en Python\n",
    "\n",
    "$ \\frac {\\pi ^ 2 }{6} = \\sum_{n=1}^{\\infty} \\frac{1}{n ^ 2}  $ "
   ]
  },
  {
   "cell_type": "code",
   "execution_count": 2,
   "metadata": {},
   "outputs": [
    {
     "name": "stdout",
     "output_type": "stream",
     "text": [
      "Valor teórico: 1.6449340668482264, Aproximación: 1.5397677311665408\n",
      "Error: 0.10516633568168565\n"
     ]
    }
   ],
   "source": [
    "import math\n",
    "res = math.pi**2 / 6\n",
    "res2=0\n",
    "for n in range(1, 10):\n",
    "    res2+=1 / (n**2)\n",
    "\n",
    "print(f\"Valor teórico: {res}, Aproximación: {res2}\")\n",
    "error= abs(res - res2)\n",
    "print(f\"Error: {error}\")"
   ]
  },
  {
   "cell_type": "markdown",
   "metadata": {},
   "source": [
    "### Expresión 1\n",
    "\n",
    "- primero se ejecuta la potencia :  2 ** 2 = 4\n",
    "- después se multiplica por 4 \n",
    "- y se le suman 3\n",
    "\n",
    "1. Test\n",
    "2. Test"
   ]
  },
  {
   "cell_type": "code",
   "execution_count": 1,
   "metadata": {},
   "outputs": [
    {
     "name": "stdout",
     "output_type": "stream",
     "text": [
      "19\n"
     ]
    }
   ],
   "source": [
    "resultado = 3 + 4 * 2 ** 2\n",
    "print(resultado)  # ¿Cuál crees que es el resultado?"
   ]
  }
 ],
 "metadata": {
  "kernelspec": {
   "display_name": "Python 3",
   "language": "python",
   "name": "python3"
  },
  "language_info": {
   "codemirror_mode": {
    "name": "ipython",
    "version": 3
   },
   "file_extension": ".py",
   "mimetype": "text/x-python",
   "name": "python",
   "nbconvert_exporter": "python",
   "pygments_lexer": "ipython3",
   "version": "3.11.4"
  }
 },
 "nbformat": 4,
 "nbformat_minor": 2
}
